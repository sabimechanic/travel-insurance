{
 "cells": [
  {
   "cell_type": "markdown",
   "id": "c5199d01",
   "metadata": {},
   "source": [
    "# Travel Insurance\n",
    "## Background\n",
    "Travel Assured is an travel insurance company. Due to the COVID pandemic,\n",
    "\n",
    "they've had to cut their marketing budget by over 50%. It is more important than\n",
    "\n",
    "ever that they advertise in the right places and to the right people."
   ]
  },
  {
   "attachments": {},
   "cell_type": "markdown",
   "id": "65b21fc2",
   "metadata": {},
   "source": [
    "## Objectives:\n",
    "This report aims provide actionable insights to help Marketing strategy, by answering these questions:\n",
    "1. Are customers more likely to travel often and travel abroad than Non-customers? **(Primary)**\n",
    "2. What is the average age of customers?\n",
    "3. What majority of employment type are customers?\n",
    "4. What is the average income of customers?"
   ]
  },
  {
   "attachments": {},
   "cell_type": "markdown",
   "id": "80c47f3b",
   "metadata": {},
   "source": [
    "## Summary\n",
    "#### Answering the primary business question:\n",
    "*Yes customers are more likely to travel often and travel abroad than non-customers.*\n",
    "\n",
    "Total number of people in data is **1,987**\n",
    "\n",
    "Total number of Non-customers is **1,277**\n",
    "\n",
    "Total Number of Customers is **710**\n",
    "\n",
    "Customers that are Frequent Flyers & Travelled Abroad is **148**\n",
    "\n",
    "Non-customers that are Frequent Flyers & Travelled Abroad is **20**\n",
    "\n",
    "\n",
    "#### The average age of customers?\n",
    "Summarizing total Age distribution of data:\n",
    "\n",
    "**Average age in data\tis *30 years***\n",
    "\n",
    "Frequently occuring age\tis **28 years (506 people aged  28 years)**\n",
    "\n",
    "Age Distribution Range\tis **25 years – 35 years**\n",
    "\n",
    "**Summarizing Age distribution of Customers (710 people):**\n",
    "\n",
    "Customers Average age is **30 years**\n",
    "\n",
    "Frequently occuring age amongst customers is **34years (133 people aged  34 years)**\n",
    "\n",
    "    Insights:      Out of 148 people aged 33 years in the data, 78 are customers that is an Age to customer ratio 52%.\n",
    "                   \n",
    "                   Out of 266 people aged 34 years in the data, 133 are customers that is an Age to customer ratio  50%.\n",
    "                   \n",
    "                   Meanwhile people aged 28years are the highest age count but lowest Age to customer ratio at 20.75%.\n",
    "                   \n",
    "#### What majority employment type are customers?\n",
    "#### Total Number of people;\n",
    "\n",
    "- In the data\tis *1,987*\n",
    "\n",
    "- In the Private Sector/Self Employed is *1,417 (71.31%)* \n",
    "\n",
    "- In the Government Sector is *570 (28.69%)*\n",
    "\n",
    "- That are **Customers(710);**\n",
    "\n",
    "- In the Private Sector/Self Employed is **570 (80.28%)** \n",
    "\n",
    "- In the Government Sector is **140 (19.72%)**"
   ]
  },
  {
   "cell_type": "code",
   "execution_count": 25,
   "id": "506cbe64",
   "metadata": {},
   "outputs": [],
   "source": [
    "#Importing the necessary libraries\n",
    "import pandas as pd\n",
    "import seaborn as sns\n",
    "import matplotlib.pyplot as plt\n",
    "import numpy as np"
   ]
  },
  {
   "cell_type": "markdown",
   "id": "34eb2380",
   "metadata": {},
   "source": [
    "Reading the dataset and getting an overview by printing the first 5 rows.\n",
    "\n",
    "Then we check for missing values, first by checking all columns with the .info() and .isna() methods"
   ]
  },
  {
   "cell_type": "code",
   "execution_count": 2,
   "id": "b096c7db",
   "metadata": {},
   "outputs": [
    {
     "data": {
      "text/html": [
       "<div><div id=9d6b42b8-87a8-4a01-ac9f-59a410e65a39 style=\"display:none; background-color:#9D6CFF; color:white; width:200px; height:30px; padding-left:5px; border-radius:4px; flex-direction:row; justify-content:space-around; align-items:center;\" onmouseover=\"this.style.backgroundColor='#BA9BF8'\" onmouseout=\"this.style.backgroundColor='#9D6CFF'\" onclick=\"window.commands?.execute('create-mitosheet-from-dataframe-output');\">See Full Dataframe in Mito</div> <script> if (window.commands?.hasCommand('create-mitosheet-from-dataframe-output')) document.getElementById('9d6b42b8-87a8-4a01-ac9f-59a410e65a39').style.display = 'flex' </script> <table border=\"1\" class=\"dataframe\">\n",
       "  <thead>\n",
       "    <tr style=\"text-align: right;\">\n",
       "      <th></th>\n",
       "      <th>Age</th>\n",
       "      <th>Employment Type</th>\n",
       "      <th>GraduateOrNot</th>\n",
       "      <th>AnnualIncome</th>\n",
       "      <th>FamilyMembers</th>\n",
       "      <th>ChronicDiseases</th>\n",
       "      <th>FrequentFlyer</th>\n",
       "      <th>EverTravelledAbroad</th>\n",
       "      <th>TravelInsurance</th>\n",
       "    </tr>\n",
       "  </thead>\n",
       "  <tbody>\n",
       "    <tr>\n",
       "      <th>0</th>\n",
       "      <td>31</td>\n",
       "      <td>Government Sector</td>\n",
       "      <td>Yes</td>\n",
       "      <td>400000</td>\n",
       "      <td>6</td>\n",
       "      <td>1</td>\n",
       "      <td>No</td>\n",
       "      <td>No</td>\n",
       "      <td>0</td>\n",
       "    </tr>\n",
       "    <tr>\n",
       "      <th>1</th>\n",
       "      <td>31</td>\n",
       "      <td>Private Sector/Self Employed</td>\n",
       "      <td>Yes</td>\n",
       "      <td>1250000</td>\n",
       "      <td>7</td>\n",
       "      <td>0</td>\n",
       "      <td>No</td>\n",
       "      <td>No</td>\n",
       "      <td>0</td>\n",
       "    </tr>\n",
       "    <tr>\n",
       "      <th>2</th>\n",
       "      <td>34</td>\n",
       "      <td>Private Sector/Self Employed</td>\n",
       "      <td>Yes</td>\n",
       "      <td>500000</td>\n",
       "      <td>4</td>\n",
       "      <td>1</td>\n",
       "      <td>No</td>\n",
       "      <td>No</td>\n",
       "      <td>1</td>\n",
       "    </tr>\n",
       "    <tr>\n",
       "      <th>3</th>\n",
       "      <td>28</td>\n",
       "      <td>Private Sector/Self Employed</td>\n",
       "      <td>Yes</td>\n",
       "      <td>700000</td>\n",
       "      <td>3</td>\n",
       "      <td>1</td>\n",
       "      <td>No</td>\n",
       "      <td>No</td>\n",
       "      <td>0</td>\n",
       "    </tr>\n",
       "    <tr>\n",
       "      <th>4</th>\n",
       "      <td>28</td>\n",
       "      <td>Private Sector/Self Employed</td>\n",
       "      <td>Yes</td>\n",
       "      <td>700000</td>\n",
       "      <td>8</td>\n",
       "      <td>1</td>\n",
       "      <td>Yes</td>\n",
       "      <td>No</td>\n",
       "      <td>0</td>\n",
       "    </tr>\n",
       "  </tbody>\n",
       "</table></div>"
      ],
      "text/plain": [
       "   Age               Employment Type GraduateOrNot  AnnualIncome  \\\n",
       "0   31             Government Sector           Yes        400000   \n",
       "1   31  Private Sector/Self Employed           Yes       1250000   \n",
       "2   34  Private Sector/Self Employed           Yes        500000   \n",
       "3   28  Private Sector/Self Employed           Yes        700000   \n",
       "4   28  Private Sector/Self Employed           Yes        700000   \n",
       "\n",
       "   FamilyMembers  ChronicDiseases FrequentFlyer EverTravelledAbroad  \\\n",
       "0              6                1            No                  No   \n",
       "1              7                0            No                  No   \n",
       "2              4                1            No                  No   \n",
       "3              3                1            No                  No   \n",
       "4              8                1           Yes                  No   \n",
       "\n",
       "   TravelInsurance  \n",
       "0                0  \n",
       "1                0  \n",
       "2                1  \n",
       "3                0  \n",
       "4                0  "
      ]
     },
     "execution_count": 2,
     "metadata": {},
     "output_type": "execute_result"
    }
   ],
   "source": [
    "df = pd.read_csv(r'C:\\Users\\EboOka\\Downloads\\travel_insurance.csv')\n",
    "df = pd.DataFrame(df)\n",
    "df.head()"
   ]
  },
  {
   "cell_type": "code",
   "execution_count": 3,
   "id": "fa93a501",
   "metadata": {},
   "outputs": [
    {
     "name": "stdout",
     "output_type": "stream",
     "text": [
      "<class 'pandas.core.frame.DataFrame'>\n",
      "RangeIndex: 1987 entries, 0 to 1986\n",
      "Data columns (total 9 columns):\n",
      " #   Column               Non-Null Count  Dtype \n",
      "---  ------               --------------  ----- \n",
      " 0   Age                  1987 non-null   int64 \n",
      " 1   Employment Type      1987 non-null   object\n",
      " 2   GraduateOrNot        1987 non-null   object\n",
      " 3   AnnualIncome         1987 non-null   int64 \n",
      " 4   FamilyMembers        1987 non-null   int64 \n",
      " 5   ChronicDiseases      1987 non-null   int64 \n",
      " 6   FrequentFlyer        1987 non-null   object\n",
      " 7   EverTravelledAbroad  1987 non-null   object\n",
      " 8   TravelInsurance      1987 non-null   int64 \n",
      "dtypes: int64(5), object(4)\n",
      "memory usage: 139.8+ KB\n"
     ]
    },
    {
     "data": {
      "text/plain": [
       "Age                    0\n",
       "Employment Type        0\n",
       "GraduateOrNot          0\n",
       "AnnualIncome           0\n",
       "FamilyMembers          0\n",
       "ChronicDiseases        0\n",
       "FrequentFlyer          0\n",
       "EverTravelledAbroad    0\n",
       "TravelInsurance        0\n",
       "dtype: int64"
      ]
     },
     "execution_count": 3,
     "metadata": {},
     "output_type": "execute_result"
    }
   ],
   "source": [
    "df.info()\n",
    "df.isna().sum()"
   ]
  },
  {
   "cell_type": "markdown",
   "id": "6500cbb8",
   "metadata": {},
   "source": [
    "Getting the number of customers(those who have bought insurance) represented with '1' and non-customers \n",
    "\n",
    "(those who have not bought insurance) represented with '0' in the \"TravelInsurance\" column of the dataset."
   ]
  },
  {
   "cell_type": "code",
   "execution_count": 4,
   "id": "c8b4e801",
   "metadata": {
    "scrolled": false
   },
   "outputs": [
    {
     "data": {
      "text/plain": [
       "0    1277\n",
       "1     710\n",
       "Name: TravelInsurance, dtype: int64"
      ]
     },
     "execution_count": 4,
     "metadata": {},
     "output_type": "execute_result"
    }
   ],
   "source": [
    "df['TravelInsurance'].value_counts()"
   ]
  },
  {
   "cell_type": "markdown",
   "id": "278ff679",
   "metadata": {},
   "source": [
    "### Assigning the subsets to the variables \"customers\" and \"non_customers\""
   ]
  },
  {
   "cell_type": "code",
   "execution_count": 6,
   "id": "4f6431e6",
   "metadata": {
    "scrolled": true
   },
   "outputs": [
    {
     "data": {
      "text/plain": [
       "(710, 9)"
      ]
     },
     "execution_count": 6,
     "metadata": {},
     "output_type": "execute_result"
    }
   ],
   "source": [
    "customers = df[df['TravelInsurance']==1]\n",
    "non_customers = df[df['TravelInsurance']==0]\n",
    "customers.shape"
   ]
  },
  {
   "cell_type": "code",
   "execution_count": 7,
   "id": "3ce2dcc1",
   "metadata": {},
   "outputs": [
    {
     "data": {
      "text/plain": [
       "(239, 9)"
      ]
     },
     "execution_count": 7,
     "metadata": {},
     "output_type": "execute_result"
    }
   ],
   "source": [
    "customers_frequent = customers[(customers['FrequentFlyer']== 'Yes')]\n",
    "customers_frequent.shape"
   ]
  },
  {
   "cell_type": "code",
   "execution_count": 8,
   "id": "f7b6265d",
   "metadata": {},
   "outputs": [
    {
     "data": {
      "text/plain": [
       "(148, 9)"
      ]
     },
     "execution_count": 8,
     "metadata": {},
     "output_type": "execute_result"
    }
   ],
   "source": [
    "customers_regular_travellers = customers[(customers['FrequentFlyer']== 'Yes') & (customers['EverTravelledAbroad']== 'Yes')]\n",
    "customers_regular_travellers.shape"
   ]
  },
  {
   "cell_type": "markdown",
   "id": "0bf575ef",
   "metadata": {},
   "source": [
    "#### Non-Customers"
   ]
  },
  {
   "cell_type": "code",
   "execution_count": 9,
   "id": "3f44c153",
   "metadata": {
    "scrolled": true
   },
   "outputs": [
    {
     "data": {
      "text/plain": [
       "(1277, 9)"
      ]
     },
     "execution_count": 9,
     "metadata": {},
     "output_type": "execute_result"
    }
   ],
   "source": [
    "non_customers.shape"
   ]
  },
  {
   "cell_type": "code",
   "execution_count": 10,
   "id": "327abb82",
   "metadata": {},
   "outputs": [
    {
     "data": {
      "text/plain": [
       "(178, 9)"
      ]
     },
     "execution_count": 10,
     "metadata": {},
     "output_type": "execute_result"
    }
   ],
   "source": [
    "non_customers_frequent = non_customers[(non_customers['FrequentFlyer']== 'Yes')]\n",
    "non_customers_frequent.shape"
   ]
  },
  {
   "cell_type": "code",
   "execution_count": 11,
   "id": "76720677",
   "metadata": {
    "scrolled": true
   },
   "outputs": [
    {
     "data": {
      "text/plain": [
       "(20, 9)"
      ]
     },
     "execution_count": 11,
     "metadata": {},
     "output_type": "execute_result"
    }
   ],
   "source": [
    "non_customers_regular_travellers = non_customers[(non_customers['FrequentFlyer']== 'Yes') & (non_customers['EverTravelledAbroad']== 'Yes')]\n",
    "non_customers_regular_travellers.shape"
   ]
  },
  {
   "cell_type": "markdown",
   "id": "62d1cda7",
   "metadata": {},
   "source": [
    "### Insights on Employment Type"
   ]
  },
  {
   "cell_type": "code",
   "execution_count": 12,
   "id": "fc733b2c",
   "metadata": {},
   "outputs": [
    {
     "data": {
      "text/html": [
       "<div><div id=cd1c06ba-eaa4-40bd-af70-83af5a3b9249 style=\"display:none; background-color:#9D6CFF; color:white; width:200px; height:30px; padding-left:5px; border-radius:4px; flex-direction:row; justify-content:space-around; align-items:center;\" onmouseover=\"this.style.backgroundColor='#BA9BF8'\" onmouseout=\"this.style.backgroundColor='#9D6CFF'\" onclick=\"window.commands?.execute('create-mitosheet-from-dataframe-output');\">See Full Dataframe in Mito</div> <script> if (window.commands?.hasCommand('create-mitosheet-from-dataframe-output')) document.getElementById('cd1c06ba-eaa4-40bd-af70-83af5a3b9249').style.display = 'flex' </script> <table border=\"1\" class=\"dataframe\">\n",
       "  <thead>\n",
       "    <tr style=\"text-align: right;\">\n",
       "      <th></th>\n",
       "      <th>Age</th>\n",
       "      <th>Employment Type</th>\n",
       "      <th>GraduateOrNot</th>\n",
       "      <th>AnnualIncome</th>\n",
       "      <th>FamilyMembers</th>\n",
       "      <th>ChronicDiseases</th>\n",
       "      <th>FrequentFlyer</th>\n",
       "      <th>EverTravelledAbroad</th>\n",
       "      <th>TravelInsurance</th>\n",
       "    </tr>\n",
       "  </thead>\n",
       "  <tbody>\n",
       "    <tr>\n",
       "      <th>0</th>\n",
       "      <td>31</td>\n",
       "      <td>Government Sector</td>\n",
       "      <td>Yes</td>\n",
       "      <td>400000</td>\n",
       "      <td>6</td>\n",
       "      <td>1</td>\n",
       "      <td>No</td>\n",
       "      <td>No</td>\n",
       "      <td>0</td>\n",
       "    </tr>\n",
       "    <tr>\n",
       "      <th>1</th>\n",
       "      <td>31</td>\n",
       "      <td>Private Sector/Self Employed</td>\n",
       "      <td>Yes</td>\n",
       "      <td>1250000</td>\n",
       "      <td>7</td>\n",
       "      <td>0</td>\n",
       "      <td>No</td>\n",
       "      <td>No</td>\n",
       "      <td>0</td>\n",
       "    </tr>\n",
       "    <tr>\n",
       "      <th>2</th>\n",
       "      <td>34</td>\n",
       "      <td>Private Sector/Self Employed</td>\n",
       "      <td>Yes</td>\n",
       "      <td>500000</td>\n",
       "      <td>4</td>\n",
       "      <td>1</td>\n",
       "      <td>No</td>\n",
       "      <td>No</td>\n",
       "      <td>1</td>\n",
       "    </tr>\n",
       "    <tr>\n",
       "      <th>3</th>\n",
       "      <td>28</td>\n",
       "      <td>Private Sector/Self Employed</td>\n",
       "      <td>Yes</td>\n",
       "      <td>700000</td>\n",
       "      <td>3</td>\n",
       "      <td>1</td>\n",
       "      <td>No</td>\n",
       "      <td>No</td>\n",
       "      <td>0</td>\n",
       "    </tr>\n",
       "    <tr>\n",
       "      <th>4</th>\n",
       "      <td>28</td>\n",
       "      <td>Private Sector/Self Employed</td>\n",
       "      <td>Yes</td>\n",
       "      <td>700000</td>\n",
       "      <td>8</td>\n",
       "      <td>1</td>\n",
       "      <td>Yes</td>\n",
       "      <td>No</td>\n",
       "      <td>0</td>\n",
       "    </tr>\n",
       "  </tbody>\n",
       "</table></div>"
      ],
      "text/plain": [
       "   Age               Employment Type GraduateOrNot  AnnualIncome  \\\n",
       "0   31             Government Sector           Yes        400000   \n",
       "1   31  Private Sector/Self Employed           Yes       1250000   \n",
       "2   34  Private Sector/Self Employed           Yes        500000   \n",
       "3   28  Private Sector/Self Employed           Yes        700000   \n",
       "4   28  Private Sector/Self Employed           Yes        700000   \n",
       "\n",
       "   FamilyMembers  ChronicDiseases FrequentFlyer EverTravelledAbroad  \\\n",
       "0              6                1            No                  No   \n",
       "1              7                0            No                  No   \n",
       "2              4                1            No                  No   \n",
       "3              3                1            No                  No   \n",
       "4              8                1           Yes                  No   \n",
       "\n",
       "   TravelInsurance  \n",
       "0                0  \n",
       "1                0  \n",
       "2                1  \n",
       "3                0  \n",
       "4                0  "
      ]
     },
     "execution_count": 12,
     "metadata": {},
     "output_type": "execute_result"
    }
   ],
   "source": [
    "df.head()"
   ]
  },
  {
   "cell_type": "code",
   "execution_count": 13,
   "id": "7d40f00e",
   "metadata": {},
   "outputs": [
    {
     "data": {
      "text/plain": [
       "Private Sector/Self Employed    1417\n",
       "Government Sector                570\n",
       "Name: Employment Type, dtype: int64"
      ]
     },
     "execution_count": 13,
     "metadata": {},
     "output_type": "execute_result"
    }
   ],
   "source": [
    "df['Employment Type'].value_counts()"
   ]
  },
  {
   "cell_type": "code",
   "execution_count": 14,
   "id": "a16a7144",
   "metadata": {},
   "outputs": [],
   "source": [
    "government_sector = df[df['Employment Type']== 'Government Sector']"
   ]
  },
  {
   "cell_type": "code",
   "execution_count": 15,
   "id": "aebf8667",
   "metadata": {},
   "outputs": [
    {
     "data": {
      "text/plain": [
       "Private Sector/Self Employed    570\n",
       "Government Sector               140\n",
       "Name: Employment Type, dtype: int64"
      ]
     },
     "execution_count": 15,
     "metadata": {},
     "output_type": "execute_result"
    }
   ],
   "source": [
    "customers['Employment Type'].value_counts()"
   ]
  },
  {
   "cell_type": "code",
   "execution_count": 29,
   "id": "72c47ee9",
   "metadata": {},
   "outputs": [
    {
     "data": {
      "image/png": "[encoded data removed]",
      "text/plain": [
       "<Figure size 864x432 with 1 Axes>"
      ]
     },
     "metadata": {},
     "output_type": "display_data"
    }
   ],
   "source": [
    "sns.set(rc={'figure.figsize':(12,6)})\n",
    "sns.set(font_scale = 1.2)\n",
    "plt.xticks([25, 26, 27, 28, 29, 30, 31, 32, 33, 34, 35])\n",
    "ax = sns.histplot(\n",
    "    data=customers, x=\"Age\", hue=\"Employment Type\",\n",
    "    element=\"step\", fill=True,\n",
    "    cumulative=False, stat=\"count\", common_norm=True, kde=False\n",
    ").set(title='Distribution of Employment Type For Customers')\n",
    "plt.legend(labels = ['Government sector','Private Sector/Self Employed'], loc=\"upper left\")\n",
    "plt.savefig('employmenttypecustomers.png')"
   ]
  },
  {
   "cell_type": "markdown",
   "id": "5a9f8ebf",
   "metadata": {},
   "source": [
    "### Age Insights"
   ]
  },
  {
   "cell_type": "code",
   "execution_count": 16,
   "id": "c974c0c6",
   "metadata": {
    "scrolled": true
   },
   "outputs": [
    {
     "data": {
      "text/plain": [
       "28    506\n",
       "34    266\n",
       "31    234\n",
       "29    192\n",
       "26    148\n",
       "33    148\n",
       "25    146\n",
       "27    131\n",
       "32     91\n",
       "30     65\n",
       "35     60\n",
       "Name: Age, dtype: int64"
      ]
     },
     "execution_count": 16,
     "metadata": {},
     "output_type": "execute_result"
    }
   ],
   "source": [
    "df[\"Age\"].value_counts()"
   ]
  },
  {
   "cell_type": "code",
   "execution_count": 18,
   "id": "8c38fde6",
   "metadata": {},
   "outputs": [
    {
     "data": {
      "text/plain": [
       "count    1987.000000\n",
       "mean       29.650226\n",
       "std         2.913308\n",
       "min        25.000000\n",
       "25%        28.000000\n",
       "50%        29.000000\n",
       "75%        32.000000\n",
       "max        35.000000\n",
       "Name: Age, dtype: float64"
      ]
     },
     "execution_count": 18,
     "metadata": {},
     "output_type": "execute_result"
    }
   ],
   "source": [
    "df[\"Age\"].describe()"
   ]
  },
  {
   "cell_type": "code",
   "execution_count": 36,
   "id": "0d0d3345",
   "metadata": {},
   "outputs": [
    {
     "data": {
      "text/html": [
       "<div><div id=c41089c6-a3bc-413f-a051-d9f3def1be04 style=\"display:none; background-color:#9D6CFF; color:white; width:200px; height:30px; padding-left:5px; border-radius:4px; flex-direction:row; justify-content:space-around; align-items:center;\" onmouseover=\"this.style.backgroundColor='#BA9BF8'\" onmouseout=\"this.style.backgroundColor='#9D6CFF'\" onclick=\"window.commands?.execute('create-mitosheet-from-dataframe-output');\">See Full Dataframe in Mito</div> <script> if (window.commands?.hasCommand('create-mitosheet-from-dataframe-output')) document.getElementById('c41089c6-a3bc-413f-a051-d9f3def1be04').style.display = 'flex' </script> <table border=\"1\" class=\"dataframe\">\n",
       "  <thead>\n",
       "    <tr style=\"text-align: right;\">\n",
       "      <th></th>\n",
       "      <th>Age</th>\n",
       "      <th>age_count</th>\n",
       "    </tr>\n",
       "  </thead>\n",
       "  <tbody>\n",
       "    <tr>\n",
       "      <th>0</th>\n",
       "      <td>31</td>\n",
       "      <td>234</td>\n",
       "    </tr>\n",
       "    <tr>\n",
       "      <th>1</th>\n",
       "      <td>31</td>\n",
       "      <td>234</td>\n",
       "    </tr>\n",
       "    <tr>\n",
       "      <th>2</th>\n",
       "      <td>34</td>\n",
       "      <td>266</td>\n",
       "    </tr>\n",
       "    <tr>\n",
       "      <th>3</th>\n",
       "      <td>28</td>\n",
       "      <td>506</td>\n",
       "    </tr>\n",
       "    <tr>\n",
       "      <th>4</th>\n",
       "      <td>28</td>\n",
       "      <td>506</td>\n",
       "    </tr>\n",
       "    <tr>\n",
       "      <th>...</th>\n",
       "      <td>...</td>\n",
       "      <td>...</td>\n",
       "    </tr>\n",
       "    <tr>\n",
       "      <th>1982</th>\n",
       "      <td>33</td>\n",
       "      <td>148</td>\n",
       "    </tr>\n",
       "    <tr>\n",
       "      <th>1983</th>\n",
       "      <td>28</td>\n",
       "      <td>506</td>\n",
       "    </tr>\n",
       "    <tr>\n",
       "      <th>1984</th>\n",
       "      <td>28</td>\n",
       "      <td>506</td>\n",
       "    </tr>\n",
       "    <tr>\n",
       "      <th>1985</th>\n",
       "      <td>34</td>\n",
       "      <td>266</td>\n",
       "    </tr>\n",
       "    <tr>\n",
       "      <th>1986</th>\n",
       "      <td>34</td>\n",
       "      <td>266</td>\n",
       "    </tr>\n",
       "  </tbody>\n",
       "</table></div>"
      ],
      "text/plain": [
       "      Age  age_count\n",
       "0      31        234\n",
       "1      31        234\n",
       "2      34        266\n",
       "3      28        506\n",
       "4      28        506\n",
       "...   ...        ...\n",
       "1982   33        148\n",
       "1983   28        506\n",
       "1984   28        506\n",
       "1985   34        266\n",
       "1986   34        266\n",
       "\n",
       "[1987 rows x 2 columns]"
      ]
     },
     "execution_count": 36,
     "metadata": {},
     "output_type": "execute_result"
    }
   ],
   "source": [
    "df['age_count'] = df['Age'].map(df['Age'].value_counts())\n",
    "df[['Age', 'age_count']]"
   ]
  },
  {
   "cell_type": "code",
   "execution_count": 35,
   "id": "eff811b3",
   "metadata": {},
   "outputs": [
    {
     "data": {
      "image/png": "[encoded data removed]",
      "text/plain": [
       "<Figure size 1080x576 with 1 Axes>"
      ]
     },
     "metadata": {},
     "output_type": "display_data"
    }
   ],
   "source": [
    "plt.figure(figsize=(15,8))\n",
    "sns.set(font_scale = 1.5)\n",
    "sns.set_style(\"whitegrid\", {'axes.grid' : False})\n",
    "sns.barplot(x='Age', y='age_count', data=df).set(xlabel=\"Age\", ylabel=\"Frequency\", title=\"A distribution showing Age Frequency in Data\")\n",
    "plt.show()"
   ]
  },
  {
   "cell_type": "code",
   "execution_count": 17,
   "id": "047df7e5",
   "metadata": {
    "scrolled": true
   },
   "outputs": [
    {
     "data": {
      "text/plain": [
       "Age\n",
       "34     133\n",
       "28     105\n",
       "25      92\n",
       "33      78\n",
       "31      75\n",
       "26      74\n",
       "29      51\n",
       "30      28\n",
       "35      28\n",
       "27      27\n",
       "32      19\n",
       "dtype: int64"
      ]
     },
     "execution_count": 17,
     "metadata": {},
     "output_type": "execute_result"
    }
   ],
   "source": [
    "customers[['Age']].value_counts()"
   ]
  },
  {
   "cell_type": "code",
   "execution_count": 37,
   "id": "1651ced0",
   "metadata": {},
   "outputs": [
    {
     "data": {
      "text/plain": [
       "Age\n",
       "28     401\n",
       "31     159\n",
       "29     141\n",
       "34     133\n",
       "27     104\n",
       "26      74\n",
       "32      72\n",
       "33      70\n",
       "25      54\n",
       "30      37\n",
       "35      32\n",
       "dtype: int64"
      ]
     },
     "execution_count": 37,
     "metadata": {},
     "output_type": "execute_result"
    }
   ],
   "source": [
    "non_customers[['Age']].value_counts()"
   ]
  },
  {
   "cell_type": "code",
   "execution_count": 40,
   "id": "4bc865bd",
   "metadata": {
    "scrolled": true
   },
   "outputs": [
    {
     "data": {
      "image/png": "[encoded data removed]",
      "text/plain": [
       "<Figure size 864x360 with 1 Axes>"
      ]
     },
     "metadata": {},
     "output_type": "display_data"
    }
   ],
   "source": [
    "sns.set(rc={'figure.figsize':(12,5)})\n",
    "sns.set(font_scale = 1.2)\n",
    "plt.xticks([25, 26, 27, 28, 29, 30, 31, 32, 33, 34, 35])\n",
    "ax = sns.histplot(\n",
    "    data=df, x=\"Age\", hue=\"TravelInsurance\",\n",
    "    element=\"step\", fill=True,\n",
    "    cumulative=False, stat=\"count\", common_norm=True, kde=False\n",
    ").set(title='Distribution of Age For Customers vs Non-customers')\n",
    "plt.legend(labels = ['Customers','Non-Customers'], loc=\"upper left\")\n",
    "plt.savefig('agecustvsnon.png')"
   ]
  },
  {
   "cell_type": "code",
   "execution_count": 39,
   "id": "a58a648e",
   "metadata": {},
   "outputs": [
    {
     "data": {
      "text/plain": [
       "34    46\n",
       "26    28\n",
       "31    19\n",
       "28    15\n",
       "25    13\n",
       "33    13\n",
       "30    11\n",
       "27     1\n",
       "29     1\n",
       "32     1\n",
       "Name: Age, dtype: int64"
      ]
     },
     "execution_count": 39,
     "metadata": {},
     "output_type": "execute_result"
    }
   ],
   "source": [
    "customers_regular_travellers['Age'].value_counts()"
   ]
  },
  {
   "cell_type": "code",
   "execution_count": 38,
   "id": "61ee6bc5",
   "metadata": {},
   "outputs": [
    {
     "data": {
      "text/plain": [
       "Text(19.939999999999998, 0.5, 'Count')"
      ]
     },
     "execution_count": 38,
     "metadata": {},
     "output_type": "execute_result"
    },
    {
     "data": {
      "image/png": "[encoded data removed]",
      "text/plain": [
       "<Figure size 648x432 with 1 Axes>"
      ]
     },
     "metadata": {},
     "output_type": "display_data"
    }
   ],
   "source": [
    "sns.set_style(\"whitegrid\", {'axes.grid' : False})\n",
    "sns.displot(customers_regular_travellers['Age'], color=\"brown\", bins=10, height=6, aspect=1.5)\n",
    "plt.title('Age count for Customers Who Travel Often')\n",
    "plt.xlabel('Age')\n",
    "plt.ylabel('Count')"
   ]
  },
  {
   "cell_type": "markdown",
   "id": "f5f3ce0d",
   "metadata": {},
   "source": [
    "### Annual Income insights"
   ]
  },
  {
   "cell_type": "code",
   "execution_count": 19,
   "id": "05a2aea8",
   "metadata": {},
   "outputs": [
    {
     "data": {
      "text/plain": [
       "array([ 500000, 1350000, 1450000, 1400000,  850000, 1500000,  800000,\n",
       "       1050000,  350000,  600000, 1300000,  750000, 1200000,  550000,\n",
       "       1000000,  950000, 1700000,  700000, 1150000, 1750000,  650000,\n",
       "       1250000,  450000,  300000,  400000, 1100000,  900000, 1650000,\n",
       "       1800000, 1550000], dtype=int64)"
      ]
     },
     "execution_count": 19,
     "metadata": {},
     "output_type": "execute_result"
    }
   ],
   "source": [
    "customers['AnnualIncome'].unique()"
   ]
  },
  {
   "cell_type": "code",
   "execution_count": 20,
   "id": "005c98f2",
   "metadata": {},
   "outputs": [
    {
     "data": {
      "text/plain": [
       "count    7.100000e+02\n",
       "mean     1.133239e+06\n",
       "std      3.748447e+05\n",
       "min      3.000000e+05\n",
       "25%      8.000000e+05\n",
       "50%      1.250000e+06\n",
       "75%      1.400000e+06\n",
       "max      1.800000e+06\n",
       "Name: AnnualIncome, dtype: float64"
      ]
     },
     "execution_count": 20,
     "metadata": {},
     "output_type": "execute_result"
    }
   ],
   "source": [
    "customers['AnnualIncome'].describe()"
   ]
  },
  {
   "cell_type": "code",
   "execution_count": 21,
   "id": "f2fb75b3",
   "metadata": {},
   "outputs": [
    {
     "data": {
      "text/plain": [
       "array([ 400000, 1250000,  500000,  700000, 1150000, 1300000, 1350000,\n",
       "       1450000,  800000, 1400000,  850000, 1500000, 1050000,  350000,\n",
       "       1100000,  600000,  900000,  550000,  300000,  750000, 1200000,\n",
       "       1000000,  950000, 1700000, 1750000,  650000,  450000, 1650000,\n",
       "       1800000, 1550000], dtype=int64)"
      ]
     },
     "execution_count": 21,
     "metadata": {},
     "output_type": "execute_result"
    }
   ],
   "source": [
    "df['AnnualIncome'].unique()"
   ]
  },
  {
   "cell_type": "code",
   "execution_count": 22,
   "id": "50ada262",
   "metadata": {},
   "outputs": [
    {
     "data": {
      "text/plain": [
       "count    1.987000e+03\n",
       "mean     9.327630e+05\n",
       "std      3.768557e+05\n",
       "min      3.000000e+05\n",
       "25%      6.000000e+05\n",
       "50%      9.000000e+05\n",
       "75%      1.250000e+06\n",
       "max      1.800000e+06\n",
       "Name: AnnualIncome, dtype: float64"
      ]
     },
     "execution_count": 22,
     "metadata": {},
     "output_type": "execute_result"
    }
   ],
   "source": [
    "df['AnnualIncome'].describe()"
   ]
  },
  {
   "cell_type": "code",
   "execution_count": 32,
   "id": "dd89fe68",
   "metadata": {},
   "outputs": [
    {
     "data": {
      "text/plain": [
       "<matplotlib.legend.Legend at 0x1a166b67040>"
      ]
     },
     "execution_count": 32,
     "metadata": {},
     "output_type": "execute_result"
    },
    {
     "data": {
      "image/png": "[encoded data removed]",
      "text/plain": [
       "<Figure size 864x432 with 1 Axes>"
      ]
     },
     "metadata": {},
     "output_type": "display_data"
    }
   ],
   "source": [
    "sns.set(rc={'figure.figsize':(12,6)})\n",
    "sns.set(font_scale = 1.2)\n",
    "ax = sns.histplot(\n",
    "    data=df, x=\"AnnualIncome\", hue=\"TravelInsurance\",\n",
    "    element=\"step\", fill=True,\n",
    "    cumulative=False, stat=\"count\", common_norm=True, kde=False\n",
    ").set(title='Distribution of Annual Income For Customers vs Non-customers')\n",
    "plt.legend(labels = ['Customers','Non-customers'], loc=\"upper right\")\n",
    "#plt.savefig('annualincomecustvsnon.png')"
   ]
  },
  {
   "cell_type": "code",
   "execution_count": 33,
   "id": "82f6fb83",
   "metadata": {},
   "outputs": [
    {
     "data": {
      "text/plain": [
       "(459, 9)"
      ]
     },
     "execution_count": 33,
     "metadata": {},
     "output_type": "execute_result"
    }
   ],
   "source": [
    "richcustomers= customers[customers['AnnualIncome']> 1000000]\n",
    "richcustomers.shape"
   ]
  },
  {
   "cell_type": "code",
   "execution_count": 30,
   "id": "2ea53c34",
   "metadata": {},
   "outputs": [
    {
     "data": {
      "text/plain": [
       "Text(0.5, 1.0, 'Annual Income vs Age')"
      ]
     },
     "execution_count": 30,
     "metadata": {},
     "output_type": "execute_result"
    },
    {
     "data": {
      "image/png": "[encoded data removed]",
      "text/plain": [
       "<Figure size 864x432 with 1 Axes>"
      ]
     },
     "metadata": {},
     "output_type": "display_data"
    }
   ],
   "source": [
    "sns.set(rc={'figure.figsize':(12,6)})\n",
    "sns.lineplot(data=customers, y=\"AnnualIncome\", x=\"Age\", ci=None, marker='o')\n",
    "plt.title('Annual Income vs Age')"
   ]
  },
  {
   "cell_type": "markdown",
   "id": "77d82429",
   "metadata": {},
   "source": [
    "Creating a new column 'age_count' and mapping the count for 'Age' to the corresponding row value for Age.\n",
    "For instance, every row entry for age 28 will have the corresponding count value of 506 appended to the \n",
    "row value for 'age_count' as shown in the next cell."
   ]
  },
  {
   "cell_type": "code",
   "execution_count": 193,
   "id": "aa81ff3d",
   "metadata": {
    "scrolled": true
   },
   "outputs": [
    {
     "data": {
      "text/plain": [
       "4    160\n",
       "3    135\n",
       "5    131\n",
       "6    129\n",
       "7     81\n",
       "2     27\n",
       "9     26\n",
       "8     21\n",
       "Name: FamilyMembers, dtype: int64"
      ]
     },
     "execution_count": 193,
     "metadata": {},
     "output_type": "execute_result"
    }
   ],
   "source": [
    "customers['FamilyMembers'].value_counts()"
   ]
  },
  {
   "cell_type": "markdown",
   "id": "63191135",
   "metadata": {},
   "source": [
    "## Recommendations\n",
    "- Majority of customers are within the age bracket of (28years – 34years). People in this age bracket should be the target for adverts.\n",
    "\n",
    "- Advertisement should target people that have an annual income of greater than 1,000,000.\n",
    "\n",
    "- Advertisements should target people in the Private Sector/Self Employed sector.\n",
    "\n",
    "- 78% of People with 3-6 family members tend to buy our insurance. Advertisements should target people in that demographics.\n"
   ]
  }
 ],
 "metadata": {
  "kernelspec": {
   "display_name": "Python 3",
   "language": "python",
   "name": "python3"
  },
  "language_info": {
   "codemirror_mode": {
    "name": "ipython",
    "version": 3
   },
   "file_extension": ".py",
   "mimetype": "text/x-python",
   "name": "python",
   "nbconvert_exporter": "python",
   "pygments_lexer": "ipython3",
   "version": "3.8.8"
  }
 },
 "nbformat": 4,
 "nbformat_minor": 5
}
